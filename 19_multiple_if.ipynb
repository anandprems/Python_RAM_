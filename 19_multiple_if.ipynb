{
 "cells": [
  {
   "cell_type": "code",
   "execution_count": 6,
   "id": "6d8a4009",
   "metadata": {},
   "outputs": [
    {
     "name": "stdout",
     "output_type": "stream",
     "text": [
      "whats is the height?121\n",
      "u can go for the ride!\n",
      "whats ur age?20\n",
      "u need to pay 200\n",
      "u need to photo or not?no\n",
      "u cannot ride!\n",
      "200\n"
     ]
    }
   ],
   "source": [
    "height = int(input('whats is the height?'))\n",
    "\n",
    "bill = 0\n",
    "\n",
    "if height >= 120:\n",
    "    print('u can go for the ride!')\n",
    "    \n",
    "    age = int(input('whats ur age?'))\n",
    "    \n",
    "    if age <12:\n",
    "        bill = 100\n",
    "        print('u need to pay 100')\n",
    "        \n",
    "    elif age<=18:\n",
    "        bill = 140\n",
    "        print('u need to pay 140')\n",
    "        \n",
    "    else:\n",
    "        bill = 200\n",
    "        print('u need to pay 200')\n",
    "        \n",
    "photo = input('u need to photo or not?')\n",
    "if photo == 'yes':\n",
    "    bill = bill+50\n",
    "    print('u need to pay extra 50')\n",
    "    print(bill)\n",
    "    \n",
    "else:\n",
    "    print('u cannot ride!')\n",
    "    print(bill)"
   ]
  },
  {
   "cell_type": "code",
   "execution_count": null,
   "id": "9a3e2edf",
   "metadata": {},
   "outputs": [],
   "source": [
    "1. veg - 1.corn (s-100, m-125, l-150) 2. veg_mix (s-120, m-145, l-170)\n",
    "2. non veg - 1. alohachicken(s-150, m-175, l-200) 2. hovayeenchicken(s-160, m-185, l-210)\n",
    "3. extra cheese - 25\n",
    "4. limejuice =200"
   ]
  }
 ],
 "metadata": {
  "kernelspec": {
   "display_name": "Python 3 (ipykernel)",
   "language": "python",
   "name": "python3"
  },
  "language_info": {
   "codemirror_mode": {
    "name": "ipython",
    "version": 3
   },
   "file_extension": ".py",
   "mimetype": "text/x-python",
   "name": "python",
   "nbconvert_exporter": "python",
   "pygments_lexer": "ipython3",
   "version": "3.11.5"
  }
 },
 "nbformat": 4,
 "nbformat_minor": 5
}
