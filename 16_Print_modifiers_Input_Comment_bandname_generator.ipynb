{
 "cells": [
  {
   "cell_type": "code",
   "execution_count": 1,
   "id": "39aa79ee",
   "metadata": {},
   "outputs": [
    {
     "name": "stdout",
     "output_type": "stream",
     "text": [
      "Hello World!\n"
     ]
    }
   ],
   "source": [
    "#print('') or print(\"\")\n",
    "\n",
    "print('Hello World!')"
   ]
  },
  {
   "cell_type": "code",
   "execution_count": 2,
   "id": "cfe623a4",
   "metadata": {},
   "outputs": [
    {
     "name": "stdout",
     "output_type": "stream",
     "text": [
      "Hello World!\n"
     ]
    }
   ],
   "source": [
    "print(\"Hello World!\")"
   ]
  },
  {
   "cell_type": "code",
   "execution_count": 3,
   "id": "201950d6",
   "metadata": {},
   "outputs": [
    {
     "ename": "SyntaxError",
     "evalue": "unterminated string literal (detected at line 1) (1931396353.py, line 1)",
     "output_type": "error",
     "traceback": [
      "\u001b[1;36m  Cell \u001b[1;32mIn[3], line 1\u001b[1;36m\u001b[0m\n\u001b[1;33m    print('Hello world! Did I make any error?!)\u001b[0m\n\u001b[1;37m          ^\u001b[0m\n\u001b[1;31mSyntaxError\u001b[0m\u001b[1;31m:\u001b[0m unterminated string literal (detected at line 1)\n"
     ]
    }
   ],
   "source": [
    "print('Hello world! Did I make any error?!)"
   ]
  },
  {
   "cell_type": "code",
   "execution_count": 4,
   "id": "7ecdbde2",
   "metadata": {},
   "outputs": [
    {
     "name": "stdout",
     "output_type": "stream",
     "text": [
      "Hello world! Did I make any error?!\n"
     ]
    }
   ],
   "source": [
    "print('Hello world! Did I make any error?!')"
   ]
  },
  {
   "cell_type": "markdown",
   "id": "5d4824fb",
   "metadata": {},
   "source": [
    "## Print Modifiers"
   ]
  },
  {
   "cell_type": "code",
   "execution_count": 5,
   "id": "0a21060e",
   "metadata": {},
   "outputs": [
    {
     "ename": "SyntaxError",
     "evalue": "invalid syntax. Perhaps you forgot a comma? (3348760620.py, line 1)",
     "output_type": "error",
     "traceback": [
      "\u001b[1;36m  Cell \u001b[1;32mIn[5], line 1\u001b[1;36m\u001b[0m\n\u001b[1;33m    print('Ram said, 'Hello' and then left the meeting')\u001b[0m\n\u001b[1;37m          ^\u001b[0m\n\u001b[1;31mSyntaxError\u001b[0m\u001b[1;31m:\u001b[0m invalid syntax. Perhaps you forgot a comma?\n"
     ]
    }
   ],
   "source": [
    "print('Ram said, 'Hello' and then left the meeting')"
   ]
  },
  {
   "cell_type": "code",
   "execution_count": 6,
   "id": "e741e77a",
   "metadata": {},
   "outputs": [
    {
     "name": "stdout",
     "output_type": "stream",
     "text": [
      "Ram said, 'Hello' and then left the meeting\n"
     ]
    }
   ],
   "source": [
    "print(\"Ram said, 'Hello' and then left the meeting\")"
   ]
  },
  {
   "cell_type": "code",
   "execution_count": 7,
   "id": "4208c74e",
   "metadata": {},
   "outputs": [
    {
     "name": "stdout",
     "output_type": "stream",
     "text": [
      "A 'single quote' inside a double quote\n"
     ]
    }
   ],
   "source": [
    "print(\"A 'single quote' inside a double quote\")"
   ]
  },
  {
   "cell_type": "code",
   "execution_count": 8,
   "id": "29c2efbf",
   "metadata": {},
   "outputs": [
    {
     "name": "stdout",
     "output_type": "stream",
     "text": [
      "A \"double quote\" inside a single quote\n"
     ]
    }
   ],
   "source": [
    "print('A \"double quote\" inside a single quote')"
   ]
  },
  {
   "cell_type": "code",
   "execution_count": 9,
   "id": "1b901589",
   "metadata": {},
   "outputs": [
    {
     "ename": "SyntaxError",
     "evalue": "invalid syntax. Perhaps you forgot a comma? (2420888143.py, line 1)",
     "output_type": "error",
     "traceback": [
      "\u001b[1;36m  Cell \u001b[1;32mIn[9], line 1\u001b[1;36m\u001b[0m\n\u001b[1;33m    print(\"Alternativelty, you can just \"escape\" the quote\")\u001b[0m\n\u001b[1;37m          ^\u001b[0m\n\u001b[1;31mSyntaxError\u001b[0m\u001b[1;31m:\u001b[0m invalid syntax. Perhaps you forgot a comma?\n"
     ]
    }
   ],
   "source": [
    "print(\"Alternativelty, you can just \"escape\" the quote\")"
   ]
  },
  {
   "cell_type": "code",
   "execution_count": 10,
   "id": "f1049810",
   "metadata": {},
   "outputs": [
    {
     "name": "stdout",
     "output_type": "stream",
     "text": [
      "Alternativelty, you can just \"escape\" the quote\n"
     ]
    }
   ],
   "source": [
    "print(\"Alternativelty, you can just \\\"escape\\\" the quote\")"
   ]
  },
  {
   "cell_type": "code",
   "execution_count": 11,
   "id": "2032191c",
   "metadata": {},
   "outputs": [
    {
     "name": "stdout",
     "output_type": "stream",
     "text": [
      "Hello world!\n",
      "Hello world!\n",
      "Hello world!\n"
     ]
    }
   ],
   "source": [
    "print('Hello world!')\n",
    "print('Hello world!')\n",
    "print('Hello world!')"
   ]
  },
  {
   "cell_type": "code",
   "execution_count": 13,
   "id": "8f0c9767",
   "metadata": {},
   "outputs": [
    {
     "ename": "IndentationError",
     "evalue": "unindent does not match any outer indentation level (<tokenize>, line 3)",
     "output_type": "error",
     "traceback": [
      "\u001b[1;36m  File \u001b[1;32m<tokenize>:3\u001b[1;36m\u001b[0m\n\u001b[1;33m    ('hello world')\u001b[0m\n\u001b[1;37m    ^\u001b[0m\n\u001b[1;31mIndentationError\u001b[0m\u001b[1;31m:\u001b[0m unindent does not match any outer indentation level\n"
     ]
    }
   ],
   "source": [
    "print('hello world')\n",
    "      ('hello  world')\n",
    "    ('hello world')"
   ]
  },
  {
   "cell_type": "code",
   "execution_count": 16,
   "id": "827cd623",
   "metadata": {},
   "outputs": [
    {
     "name": "stdout",
     "output_type": "stream",
     "text": [
      "Hello world! \n",
      "Hello world! \n",
      "Hello world!\n"
     ]
    }
   ],
   "source": [
    "print('Hello world! \\nHello world! \\nHello world!')"
   ]
  },
  {
   "cell_type": "markdown",
   "id": "c7fadfae",
   "metadata": {},
   "source": [
    "\\n - new line"
   ]
  },
  {
   "cell_type": "code",
   "execution_count": 17,
   "id": "90f34248",
   "metadata": {},
   "outputs": [
    {
     "name": "stdout",
     "output_type": "stream",
     "text": [
      "My name is Premanand \n",
      "I will be mentoring Python for you\n"
     ]
    }
   ],
   "source": [
    "print('My name is Premanand \\nI will be mentoring Python for you')"
   ]
  },
  {
   "cell_type": "code",
   "execution_count": 19,
   "id": "28b1973a",
   "metadata": {},
   "outputs": [
    {
     "name": "stdout",
     "output_type": "stream",
     "text": [
      "hellolavin!\n"
     ]
    }
   ],
   "source": [
    "## Concatenation\n",
    "print('hello'+'lavin!')"
   ]
  },
  {
   "cell_type": "code",
   "execution_count": 20,
   "id": "8c4fd3c6",
   "metadata": {},
   "outputs": [
    {
     "name": "stdout",
     "output_type": "stream",
     "text": [
      "hellolavin!\n"
     ]
    }
   ],
   "source": [
    "print('hello''lavin!')"
   ]
  },
  {
   "cell_type": "code",
   "execution_count": 21,
   "id": "16913fb6",
   "metadata": {},
   "outputs": [
    {
     "name": "stdout",
     "output_type": "stream",
     "text": [
      "hello lavin!\n"
     ]
    }
   ],
   "source": [
    "print('hello lavin!')"
   ]
  },
  {
   "cell_type": "code",
   "execution_count": 22,
   "id": "a1295082",
   "metadata": {},
   "outputs": [
    {
     "name": "stdout",
     "output_type": "stream",
     "text": [
      "hello + lavin!\n"
     ]
    }
   ],
   "source": [
    "print('hello + lavin!')"
   ]
  },
  {
   "cell_type": "code",
   "execution_count": 23,
   "id": "c1ce9f9a",
   "metadata": {},
   "outputs": [
    {
     "name": "stdout",
     "output_type": "stream",
     "text": [
      "hello lavin!\n"
     ]
    }
   ],
   "source": [
    "print('hello '+'lavin!')"
   ]
  },
  {
   "cell_type": "code",
   "execution_count": 24,
   "id": "a1ec3153",
   "metadata": {},
   "outputs": [
    {
     "name": "stdout",
     "output_type": "stream",
     "text": [
      "hello lavin!\n"
     ]
    }
   ],
   "source": [
    "print('hello'+' lavin!')"
   ]
  },
  {
   "cell_type": "code",
   "execution_count": 25,
   "id": "a665c90b",
   "metadata": {},
   "outputs": [
    {
     "name": "stdout",
     "output_type": "stream",
     "text": [
      "hello  lavin!\n"
     ]
    }
   ],
   "source": [
    "print('hello'+'  lavin!')"
   ]
  },
  {
   "cell_type": "code",
   "execution_count": 26,
   "id": "3beb694d",
   "metadata": {},
   "outputs": [
    {
     "name": "stdout",
     "output_type": "stream",
     "text": [
      "hello    lavin!\n"
     ]
    }
   ],
   "source": [
    "print('hello  '+'  lavin!')"
   ]
  },
  {
   "cell_type": "code",
   "execution_count": 27,
   "id": "418eaf0c",
   "metadata": {},
   "outputs": [
    {
     "name": "stdout",
     "output_type": "stream",
     "text": [
      "do i get any error?\n"
     ]
    }
   ],
   "source": [
    "    print('do i get any error?')"
   ]
  },
  {
   "cell_type": "code",
   "execution_count": 28,
   "id": "bebf21c6",
   "metadata": {},
   "outputs": [
    {
     "name": "stdout",
     "output_type": "stream",
     "text": [
      "what is your name?\n"
     ]
    }
   ],
   "source": [
    "print('what is your name?')"
   ]
  },
  {
   "cell_type": "code",
   "execution_count": 29,
   "id": "0a51dff7",
   "metadata": {},
   "outputs": [
    {
     "name": "stdout",
     "output_type": "stream",
     "text": [
      "what is your name?Premanand\n"
     ]
    },
    {
     "data": {
      "text/plain": [
       "'Premanand'"
      ]
     },
     "execution_count": 29,
     "metadata": {},
     "output_type": "execute_result"
    }
   ],
   "source": [
    "input('what is your name?')"
   ]
  },
  {
   "cell_type": "code",
   "execution_count": 30,
   "id": "ac87a099",
   "metadata": {},
   "outputs": [
    {
     "name": "stdout",
     "output_type": "stream",
     "text": [
      "Which stanadrad are you studying?6\n"
     ]
    },
    {
     "data": {
      "text/plain": [
       "'6'"
      ]
     },
     "execution_count": 30,
     "metadata": {},
     "output_type": "execute_result"
    }
   ],
   "source": [
    "input(\"Which stanadrad are you studying?\")"
   ]
  },
  {
   "cell_type": "code",
   "execution_count": 31,
   "id": "137976a9",
   "metadata": {},
   "outputs": [
    {
     "name": "stdout",
     "output_type": "stream",
     "text": [
      "What is your name?Premanand\n",
      "HelloPremanandgood morning!\n"
     ]
    }
   ],
   "source": [
    "print('Hello' + input('What is your name?') + 'good morning!')"
   ]
  },
  {
   "cell_type": "code",
   "execution_count": 34,
   "id": "26b1bb62",
   "metadata": {},
   "outputs": [
    {
     "name": "stdout",
     "output_type": "stream",
     "text": [
      "What is your name?Premanand\n",
      "Hello Premanand good morning!\n"
     ]
    }
   ],
   "source": [
    "print('Hello ' + input('What is your name?') + ' good morning!')"
   ]
  },
  {
   "cell_type": "code",
   "execution_count": null,
   "id": "22491a53",
   "metadata": {},
   "outputs": [],
   "source": [
    "#a = 10\n",
    "# b = 3\n",
    "# c =4\n",
    "# d = 5\n"
   ]
  },
  {
   "cell_type": "code",
   "execution_count": 35,
   "id": "67031760",
   "metadata": {},
   "outputs": [
    {
     "name": "stdout",
     "output_type": "stream",
     "text": [
      "what is your name?Python\n",
      "6\n"
     ]
    }
   ],
   "source": [
    "#len function\n",
    "name = input('what is your name?')\n",
    "print(len(name))"
   ]
  },
  {
   "cell_type": "code",
   "execution_count": 36,
   "id": "a6a3938a",
   "metadata": {},
   "outputs": [
    {
     "name": "stdout",
     "output_type": "stream",
     "text": [
      "what is your name?Premanand\n",
      "9\n"
     ]
    }
   ],
   "source": [
    "print(len(input('what is your name?')))"
   ]
  },
  {
   "cell_type": "code",
   "execution_count": 37,
   "id": "ffca2e3d",
   "metadata": {},
   "outputs": [
    {
     "name": "stdout",
     "output_type": "stream",
     "text": [
      "what is your name?Premanand\n"
     ]
    },
    {
     "data": {
      "text/plain": [
       "'Premanand'"
      ]
     },
     "execution_count": 37,
     "metadata": {},
     "output_type": "execute_result"
    }
   ],
   "source": [
    "#variable\n",
    "\n",
    "input('what is your name?')"
   ]
  },
  {
   "cell_type": "code",
   "execution_count": 38,
   "id": "eb630add",
   "metadata": {},
   "outputs": [
    {
     "name": "stdout",
     "output_type": "stream",
     "text": [
      "what is your name?Premanand\n"
     ]
    }
   ],
   "source": [
    "name = input('what is your name?')"
   ]
  },
  {
   "cell_type": "code",
   "execution_count": 39,
   "id": "b34b9d71",
   "metadata": {},
   "outputs": [
    {
     "data": {
      "text/plain": [
       "'Premanand'"
      ]
     },
     "execution_count": 39,
     "metadata": {},
     "output_type": "execute_result"
    }
   ],
   "source": [
    "name"
   ]
  },
  {
   "cell_type": "code",
   "execution_count": 41,
   "id": "9d370239",
   "metadata": {},
   "outputs": [
    {
     "name": "stdout",
     "output_type": "stream",
     "text": [
      "hi Premanand\n"
     ]
    }
   ],
   "source": [
    "print('hi '+name)"
   ]
  },
  {
   "cell_type": "code",
   "execution_count": 42,
   "id": "9637013e",
   "metadata": {},
   "outputs": [
    {
     "data": {
      "text/plain": [
       "'Premanand'"
      ]
     },
     "execution_count": 42,
     "metadata": {},
     "output_type": "execute_result"
    }
   ],
   "source": [
    "name"
   ]
  },
  {
   "cell_type": "code",
   "execution_count": 43,
   "id": "37eb0f92",
   "metadata": {},
   "outputs": [],
   "source": [
    "name = 'LavinRAM'"
   ]
  },
  {
   "cell_type": "code",
   "execution_count": 44,
   "id": "5d75fc7e",
   "metadata": {},
   "outputs": [
    {
     "data": {
      "text/plain": [
       "'LavinRAM'"
      ]
     },
     "execution_count": 44,
     "metadata": {},
     "output_type": "execute_result"
    }
   ],
   "source": [
    "name"
   ]
  },
  {
   "cell_type": "markdown",
   "id": "43122f62",
   "metadata": {},
   "source": [
    "7358679961 -> Prem"
   ]
  },
  {
   "cell_type": "code",
   "execution_count": 45,
   "id": "681db5d5",
   "metadata": {},
   "outputs": [
    {
     "name": "stdout",
     "output_type": "stream",
     "text": [
      "Enter the number1:10\n",
      "Enter the number2:20\n",
      "Enter the first number: 20\n",
      "Enter the second number: 10\n"
     ]
    }
   ],
   "source": [
    "num1 = input('Enter the number1:')\n",
    "num2 = input('Enter the number2:')\n",
    "\n",
    "num3 = num1\n",
    "\n",
    "num1 = num2\n",
    "\n",
    "num2 = num3\n",
    "\n",
    "print('Enter the first number:', num1)\n",
    "print('Enter the second number:', num2)"
   ]
  },
  {
   "cell_type": "code",
   "execution_count": 46,
   "id": "a1699f3d",
   "metadata": {},
   "outputs": [],
   "source": [
    "num1 = 10"
   ]
  },
  {
   "cell_type": "code",
   "execution_count": 47,
   "id": "2869b3bb",
   "metadata": {},
   "outputs": [
    {
     "ename": "SyntaxError",
     "evalue": "invalid syntax (1235446623.py, line 1)",
     "output_type": "error",
     "traceback": [
      "\u001b[1;36m  Cell \u001b[1;32mIn[47], line 1\u001b[1;36m\u001b[0m\n\u001b[1;33m    num 1 = 10\u001b[0m\n\u001b[1;37m        ^\u001b[0m\n\u001b[1;31mSyntaxError\u001b[0m\u001b[1;31m:\u001b[0m invalid syntax\n"
     ]
    }
   ],
   "source": [
    "num 1 = 10"
   ]
  },
  {
   "cell_type": "code",
   "execution_count": 48,
   "id": "526b5a39",
   "metadata": {},
   "outputs": [],
   "source": [
    "num_1 = 10"
   ]
  },
  {
   "cell_type": "code",
   "execution_count": 49,
   "id": "a0aebbf3",
   "metadata": {},
   "outputs": [
    {
     "ename": "SyntaxError",
     "evalue": "invalid decimal literal (1972592647.py, line 1)",
     "output_type": "error",
     "traceback": [
      "\u001b[1;36m  Cell \u001b[1;32mIn[49], line 1\u001b[1;36m\u001b[0m\n\u001b[1;33m    1num = 10\u001b[0m\n\u001b[1;37m    ^\u001b[0m\n\u001b[1;31mSyntaxError\u001b[0m\u001b[1;31m:\u001b[0m invalid decimal literal\n"
     ]
    }
   ],
   "source": [
    "1num = 10"
   ]
  },
  {
   "cell_type": "code",
   "execution_count": 50,
   "id": "dd20af00",
   "metadata": {},
   "outputs": [
    {
     "ename": "SyntaxError",
     "evalue": "invalid decimal literal (1390941456.py, line 1)",
     "output_type": "error",
     "traceback": [
      "\u001b[1;36m  Cell \u001b[1;32mIn[50], line 1\u001b[1;36m\u001b[0m\n\u001b[1;33m    1_num = 10\u001b[0m\n\u001b[1;37m     ^\u001b[0m\n\u001b[1;31mSyntaxError\u001b[0m\u001b[1;31m:\u001b[0m invalid decimal literal\n"
     ]
    }
   ],
   "source": [
    "1_num = 10"
   ]
  },
  {
   "cell_type": "code",
   "execution_count": 51,
   "id": "9118631b",
   "metadata": {},
   "outputs": [],
   "source": [
    "num_1 = 20"
   ]
  },
  {
   "cell_type": "code",
   "execution_count": 57,
   "id": "cec7488a",
   "metadata": {},
   "outputs": [
    {
     "ename": "SyntaxError",
     "evalue": "cannot assign to True (2227483689.py, line 1)",
     "output_type": "error",
     "traceback": [
      "\u001b[1;36m  Cell \u001b[1;32mIn[57], line 1\u001b[1;36m\u001b[0m\n\u001b[1;33m    True = 10\u001b[0m\n\u001b[1;37m    ^\u001b[0m\n\u001b[1;31mSyntaxError\u001b[0m\u001b[1;31m:\u001b[0m cannot assign to True\n"
     ]
    }
   ],
   "source": [
    "True = 10"
   ]
  },
  {
   "cell_type": "code",
   "execution_count": 58,
   "id": "d97d9a75",
   "metadata": {},
   "outputs": [
    {
     "ename": "NameError",
     "evalue": "name 'Num1' is not defined",
     "output_type": "error",
     "traceback": [
      "\u001b[1;31m---------------------------------------------------------------------------\u001b[0m",
      "\u001b[1;31mNameError\u001b[0m                                 Traceback (most recent call last)",
      "Cell \u001b[1;32mIn[58], line 2\u001b[0m\n\u001b[0;32m      1\u001b[0m num1 \u001b[38;5;241m=\u001b[39m \u001b[38;5;241m10\u001b[39m\n\u001b[1;32m----> 2\u001b[0m \u001b[38;5;28mprint\u001b[39m(Num1)\n",
      "\u001b[1;31mNameError\u001b[0m: name 'Num1' is not defined"
     ]
    }
   ],
   "source": [
    "num1 = 10\n",
    "print(Num1)"
   ]
  },
  {
   "cell_type": "code",
   "execution_count": 59,
   "id": "20fa0ac5",
   "metadata": {},
   "outputs": [
    {
     "ename": "NameError",
     "evalue": "name 'name_wat' is not defined",
     "output_type": "error",
     "traceback": [
      "\u001b[1;31m---------------------------------------------------------------------------\u001b[0m",
      "\u001b[1;31mNameError\u001b[0m                                 Traceback (most recent call last)",
      "Cell \u001b[1;32mIn[59], line 2\u001b[0m\n\u001b[0;32m      1\u001b[0m name_what \u001b[38;5;241m=\u001b[39m \u001b[38;5;124m'\u001b[39m\u001b[38;5;124mpremanand\u001b[39m\u001b[38;5;124m'\u001b[39m\n\u001b[1;32m----> 2\u001b[0m name_wat\n",
      "\u001b[1;31mNameError\u001b[0m: name 'name_wat' is not defined"
     ]
    }
   ],
   "source": [
    "name_what = 'premanand'\n",
    "name_wat"
   ]
  },
  {
   "cell_type": "markdown",
   "id": "dae7c617",
   "metadata": {},
   "source": [
    "1. var a = 12\n",
    "2. a =12\n",
    "3. a:12\n",
    "4. 12 = a"
   ]
  },
  {
   "cell_type": "markdown",
   "id": "2da48307",
   "metadata": {},
   "source": [
    "1. P1 user name = 'Jackbouser'\n",
    "2. 1_player_username = 'JackBouser'\n",
    "3. player1_username = 'Jackbouser'\n",
    "4. P1U = 'Jackbouser'"
   ]
  },
  {
   "cell_type": "code",
   "execution_count": 61,
   "id": "e40992a5",
   "metadata": {},
   "outputs": [
    {
     "ename": "SyntaxError",
     "evalue": "invalid syntax (3745704344.py, line 1)",
     "output_type": "error",
     "traceback": [
      "\u001b[1;36m  Cell \u001b[1;32mIn[61], line 1\u001b[1;36m\u001b[0m\n\u001b[1;33m    P1 user name = 'Jackbouser'\u001b[0m\n\u001b[1;37m       ^\u001b[0m\n\u001b[1;31mSyntaxError\u001b[0m\u001b[1;31m:\u001b[0m invalid syntax\n"
     ]
    }
   ],
   "source": [
    "P1 user name = 'Jackbouser'"
   ]
  },
  {
   "cell_type": "code",
   "execution_count": 62,
   "id": "a9e08485",
   "metadata": {},
   "outputs": [],
   "source": [
    "P1U = 'Jackbouser'"
   ]
  },
  {
   "cell_type": "code",
   "execution_count": 63,
   "id": "8e6105e4",
   "metadata": {},
   "outputs": [],
   "source": [
    "player1_username = 'Jackbouser'"
   ]
  },
  {
   "cell_type": "code",
   "execution_count": 64,
   "id": "6633caaf",
   "metadata": {},
   "outputs": [
    {
     "ename": "SyntaxError",
     "evalue": "invalid decimal literal (4207567070.py, line 1)",
     "output_type": "error",
     "traceback": [
      "\u001b[1;36m  Cell \u001b[1;32mIn[64], line 1\u001b[1;36m\u001b[0m\n\u001b[1;33m    1_player_username = 'JackBouser'\u001b[0m\n\u001b[1;37m     ^\u001b[0m\n\u001b[1;31mSyntaxError\u001b[0m\u001b[1;31m:\u001b[0m invalid decimal literal\n"
     ]
    }
   ],
   "source": [
    "1_player_username = 'JackBouser'"
   ]
  },
  {
   "cell_type": "code",
   "execution_count": 4,
   "id": "dfec3055",
   "metadata": {},
   "outputs": [
    {
     "name": "stdout",
     "output_type": "stream",
     "text": [
      "welcome to the band name generator!\n",
      "which city you grew up?palacode\n",
      "what is your pet name for ur pet animal?jacky\n",
      "The band name is: palacodejacky\n"
     ]
    }
   ],
   "source": [
    "print('welcome to the band name generator!')\n",
    "city = input('which city you grew up?')\n",
    "petname = input('what is your pet name for ur pet animal?')\n",
    "print('The band name is:',city + \"\" + petname)"
   ]
  },
  {
   "cell_type": "code",
   "execution_count": null,
   "id": "393d907f",
   "metadata": {},
   "outputs": [],
   "source": []
  }
 ],
 "metadata": {
  "kernelspec": {
   "display_name": "Python 3 (ipykernel)",
   "language": "python",
   "name": "python3"
  },
  "language_info": {
   "codemirror_mode": {
    "name": "ipython",
    "version": 3
   },
   "file_extension": ".py",
   "mimetype": "text/x-python",
   "name": "python",
   "nbconvert_exporter": "python",
   "pygments_lexer": "ipython3",
   "version": "3.11.5"
  }
 },
 "nbformat": 4,
 "nbformat_minor": 5
}
