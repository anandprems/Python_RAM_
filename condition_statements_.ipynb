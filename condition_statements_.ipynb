{
 "cells": [
  {
   "cell_type": "markdown",
   "id": "b57eaceb",
   "metadata": {},
   "source": [
    "## Conditional statement"
   ]
  },
  {
   "cell_type": "markdown",
   "id": "d9192e17",
   "metadata": {},
   "source": [
    "if condition:\n",
    "    do this\n",
    "    \n",
    "else:\n",
    "    do this"
   ]
  },
  {
   "cell_type": "code",
   "execution_count": 1,
   "id": "6c2f70d0",
   "metadata": {},
   "outputs": [
    {
     "name": "stdout",
     "output_type": "stream",
     "text": [
      "Continue filling the water!\n"
     ]
    }
   ],
   "source": [
    "#bath tub\n",
    "water_level = 50\n",
    "if water_level > 80:\n",
    "    print('Drain water!')\n",
    "else:\n",
    "    print('Continue filling the water!')"
   ]
  },
  {
   "cell_type": "code",
   "execution_count": 2,
   "id": "ce1f6eec",
   "metadata": {},
   "outputs": [
    {
     "name": "stdout",
     "output_type": "stream",
     "text": [
      "Drain water!\n"
     ]
    }
   ],
   "source": [
    "water_level = 90\n",
    "if water_level > 80:\n",
    "    print('Drain water!')\n",
    "else:\n",
    "    print('Continue filling the water!')"
   ]
  },
  {
   "cell_type": "code",
   "execution_count": 3,
   "id": "5bb5c1b5",
   "metadata": {},
   "outputs": [
    {
     "name": "stdout",
     "output_type": "stream",
     "text": [
      "Continue filling the water!\n"
     ]
    }
   ],
   "source": [
    "water_level = 80\n",
    "if water_level > 80:\n",
    "    print('Drain water!')\n",
    "else:\n",
    "    print('Continue filling the water!')"
   ]
  },
  {
   "cell_type": "code",
   "execution_count": 5,
   "id": "fc9a9f29",
   "metadata": {},
   "outputs": [
    {
     "name": "stdout",
     "output_type": "stream",
     "text": [
      "whats my height?100\n",
      "You are not allowed\n"
     ]
    }
   ],
   "source": [
    "height = float(input('whats my height?'))\n",
    "if height > 120:\n",
    "    print('you can ride the roller coaster')\n",
    "    \n",
    "else:\n",
    "    print('You are not allowed')"
   ]
  },
  {
   "cell_type": "code",
   "execution_count": 7,
   "id": "b9421d5b",
   "metadata": {},
   "outputs": [
    {
     "name": "stdout",
     "output_type": "stream",
     "text": [
      "whats my height?125\n",
      "you can ride the roller coaster\n",
      "whats ur age?38\n",
      "your ticket price is 200\n"
     ]
    }
   ],
   "source": [
    "height = float(input('whats my height?'))\n",
    "if height > 120:\n",
    "    print('you can ride the roller coaster')\n",
    "    \n",
    "    age = int(input('whats ur age?'))\n",
    "    if age <=18:\n",
    "        print('Your ticket price is 140')\n",
    "        \n",
    "    else:\n",
    "        print('your ticket price is 200')\n",
    "    \n",
    "else:\n",
    "    print('You are not allowed')"
   ]
  },
  {
   "cell_type": "code",
   "execution_count": 12,
   "id": "dc35bda4",
   "metadata": {},
   "outputs": [
    {
     "name": "stdout",
     "output_type": "stream",
     "text": [
      "whats my height?125\n",
      "you can ride the roller coaster\n",
      "age?25\n",
      "200\n"
     ]
    }
   ],
   "source": [
    "height = float(input('whats my height?'))\n",
    "if height > 120:\n",
    "    print('you can ride the roller coaster')\n",
    "    \n",
    "    age = int(input('age?'))\n",
    "    if age < 12:\n",
    "        print('100')\n",
    "        \n",
    "    elif age <= 18:\n",
    "        print('140')\n",
    "        \n",
    "    else: \n",
    "        print('200')\n",
    "    \n",
    "else:\n",
    "    print('You are not allowed')"
   ]
  },
  {
   "cell_type": "code",
   "execution_count": null,
   "id": "f94d38e9",
   "metadata": {},
   "outputs": [],
   "source": []
  }
 ],
 "metadata": {
  "kernelspec": {
   "display_name": "Python 3 (ipykernel)",
   "language": "python",
   "name": "python3"
  },
  "language_info": {
   "codemirror_mode": {
    "name": "ipython",
    "version": 3
   },
   "file_extension": ".py",
   "mimetype": "text/x-python",
   "name": "python",
   "nbconvert_exporter": "python",
   "pygments_lexer": "ipython3",
   "version": "3.11.5"
  }
 },
 "nbformat": 4,
 "nbformat_minor": 5
}
