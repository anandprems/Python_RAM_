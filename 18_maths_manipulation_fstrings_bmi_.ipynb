{
 "cells": [
  {
   "cell_type": "markdown",
   "id": "a2e97e08",
   "metadata": {},
   "source": [
    "## Mathematical "
   ]
  },
  {
   "cell_type": "code",
   "execution_count": 1,
   "id": "2b05db65",
   "metadata": {},
   "outputs": [
    {
     "name": "stdout",
     "output_type": "stream",
     "text": [
      "7.0\n"
     ]
    }
   ],
   "source": [
    "print(3 * 3 + 3/3 -3)"
   ]
  },
  {
   "cell_type": "markdown",
   "id": "ea018ccf",
   "metadata": {},
   "source": [
    "## Write a program that calculates the Body Mass Index (BMI) from a users weight and height.\n",
    "\n",
    "BMI = weight / (height * height)"
   ]
  },
  {
   "cell_type": "code",
   "execution_count": 3,
   "id": "c5bb1e14",
   "metadata": {},
   "outputs": [
    {
     "name": "stdout",
     "output_type": "stream",
     "text": [
      "what is your height?1.75\n",
      "what is your weight?83\n",
      "27.102040816326532\n"
     ]
    }
   ],
   "source": [
    "height = input('what is your height?')\n",
    "weight = input ('what is your weight?')\n",
    "\n",
    "height_int = float(height)\n",
    "weight_int = float(weight)\n",
    "\n",
    "bmi = weight_int / (height_int * height_int)\n",
    "print(bmi)"
   ]
  },
  {
   "cell_type": "code",
   "execution_count": 4,
   "id": "450b3e22",
   "metadata": {},
   "outputs": [
    {
     "name": "stdout",
     "output_type": "stream",
     "text": [
      "what is your height?1.75\n",
      "what is your weight?83\n",
      "27.102040816326532\n"
     ]
    }
   ],
   "source": [
    "height = input('what is your height?')\n",
    "weight = input ('what is your weight?')\n",
    "\n",
    "height_int = float(height)\n",
    "weight_int = float(weight)\n",
    "\n",
    "bmi = weight_int / (height_int ** 2)\n",
    "print(bmi)"
   ]
  },
  {
   "cell_type": "markdown",
   "id": "532db281",
   "metadata": {},
   "source": [
    "## Number manipulation"
   ]
  },
  {
   "cell_type": "code",
   "execution_count": 5,
   "id": "38a8eabe",
   "metadata": {},
   "outputs": [
    {
     "name": "stdout",
     "output_type": "stream",
     "text": [
      "2.6666666666666665\n"
     ]
    }
   ],
   "source": [
    "print(8/3)"
   ]
  },
  {
   "cell_type": "code",
   "execution_count": 6,
   "id": "5b92f1d2",
   "metadata": {},
   "outputs": [
    {
     "name": "stdout",
     "output_type": "stream",
     "text": [
      "2\n"
     ]
    }
   ],
   "source": [
    "print(int(8/3))"
   ]
  },
  {
   "cell_type": "code",
   "execution_count": 7,
   "id": "7263e782",
   "metadata": {},
   "outputs": [
    {
     "name": "stdout",
     "output_type": "stream",
     "text": [
      "2.6666666666666665\n"
     ]
    }
   ],
   "source": [
    "print(8/3)"
   ]
  },
  {
   "cell_type": "code",
   "execution_count": 8,
   "id": "178adc8b",
   "metadata": {},
   "outputs": [
    {
     "name": "stdout",
     "output_type": "stream",
     "text": [
      "3\n"
     ]
    }
   ],
   "source": [
    "print(round(8/3))"
   ]
  },
  {
   "cell_type": "code",
   "execution_count": 9,
   "id": "4bb88f9a",
   "metadata": {},
   "outputs": [
    {
     "name": "stdout",
     "output_type": "stream",
     "text": [
      "2.67\n"
     ]
    }
   ],
   "source": [
    "print(round(8/3, 2))"
   ]
  },
  {
   "cell_type": "code",
   "execution_count": 10,
   "id": "7233187b",
   "metadata": {},
   "outputs": [
    {
     "name": "stdout",
     "output_type": "stream",
     "text": [
      "2\n"
     ]
    }
   ],
   "source": [
    "print(8//3)"
   ]
  },
  {
   "cell_type": "code",
   "execution_count": 11,
   "id": "b5da6250",
   "metadata": {},
   "outputs": [
    {
     "name": "stdout",
     "output_type": "stream",
     "text": [
      "<class 'float'>\n"
     ]
    }
   ],
   "source": [
    "print(type(8/3))"
   ]
  },
  {
   "cell_type": "code",
   "execution_count": 12,
   "id": "2178e4b6",
   "metadata": {},
   "outputs": [
    {
     "name": "stdout",
     "output_type": "stream",
     "text": [
      "<class 'int'>\n"
     ]
    }
   ],
   "source": [
    "print(type(8//3))"
   ]
  },
  {
   "cell_type": "code",
   "execution_count": 13,
   "id": "e636745e",
   "metadata": {},
   "outputs": [
    {
     "name": "stdout",
     "output_type": "stream",
     "text": [
      "1.0\n"
     ]
    }
   ],
   "source": [
    "print(4/4)"
   ]
  },
  {
   "cell_type": "code",
   "execution_count": 17,
   "id": "76e52029",
   "metadata": {},
   "outputs": [
    {
     "ename": "TypeError",
     "evalue": "can only concatenate str (not \"int\") to str",
     "output_type": "error",
     "traceback": [
      "\u001b[1;31m---------------------------------------------------------------------------\u001b[0m",
      "\u001b[1;31mTypeError\u001b[0m                                 Traceback (most recent call last)",
      "Cell \u001b[1;32mIn[17], line 2\u001b[0m\n\u001b[0;32m      1\u001b[0m score \u001b[38;5;241m=\u001b[39m \u001b[38;5;241m92\u001b[39m\n\u001b[1;32m----> 2\u001b[0m \u001b[38;5;28mprint\u001b[39m(\u001b[38;5;124m'\u001b[39m\u001b[38;5;124mYour score is \u001b[39m\u001b[38;5;124m'\u001b[39m \u001b[38;5;241m+\u001b[39m score)\n",
      "\u001b[1;31mTypeError\u001b[0m: can only concatenate str (not \"int\") to str"
     ]
    }
   ],
   "source": [
    "score = 92\n",
    "print('Your score is ' + score)"
   ]
  },
  {
   "cell_type": "code",
   "execution_count": 15,
   "id": "c813e431",
   "metadata": {},
   "outputs": [
    {
     "name": "stdout",
     "output_type": "stream",
     "text": [
      "Your score is 92\n"
     ]
    }
   ],
   "source": [
    "score = 92\n",
    "print('Your score is ' + str(score))"
   ]
  },
  {
   "cell_type": "markdown",
   "id": "73286d8a",
   "metadata": {},
   "source": [
    "## F string"
   ]
  },
  {
   "cell_type": "code",
   "execution_count": 18,
   "id": "c89b7383",
   "metadata": {},
   "outputs": [
    {
     "name": "stdout",
     "output_type": "stream",
     "text": [
      " Your score is 92\n"
     ]
    }
   ],
   "source": [
    "print(f' Your score is {score}')"
   ]
  },
  {
   "cell_type": "code",
   "execution_count": 19,
   "id": "889afe19",
   "metadata": {},
   "outputs": [
    {
     "name": "stdout",
     "output_type": "stream",
     "text": [
      "Your BMI score is 27.102040816326532, and your height is 1.75 in m, and your weight is 83.0 in kg\n"
     ]
    }
   ],
   "source": [
    "print(f'Your BMI score is {bmi}, and your height is {height_int} in m, and your weight is {weight_int} in kg')"
   ]
  },
  {
   "cell_type": "markdown",
   "id": "4b4231d2",
   "metadata": {},
   "source": [
    "Your life in weeks and realized just how little time we actually have - Tim  urban\n",
    "create a problem using mathematics and f-string that tells us how many weeks we have left, if we live untill 100 years of old"
   ]
  },
  {
   "cell_type": "code",
   "execution_count": 20,
   "id": "3da27049",
   "metadata": {},
   "outputs": [
    {
     "name": "stdout",
     "output_type": "stream",
     "text": [
      "What is your age?37\n",
      "You have 3276 weeks left!\n"
     ]
    }
   ],
   "source": [
    "age = input('What is your age?')\n",
    "age_int = int(age)\n",
    "\n",
    "no_weeks = 52\n",
    "no_years = 100 - age_int\n",
    "\n",
    "no_years_live = no_years * no_weeks\n",
    "\n",
    "print(f'You have {no_years_live} weeks left!')"
   ]
  },
  {
   "cell_type": "markdown",
   "id": "3bbc1891",
   "metadata": {},
   "source": [
    "## Quiz"
   ]
  },
  {
   "cell_type": "code",
   "execution_count": 21,
   "id": "22bb996b",
   "metadata": {},
   "outputs": [
    {
     "name": "stdout",
     "output_type": "stream",
     "text": [
      "6.0\n"
     ]
    }
   ],
   "source": [
    "print(6+4/2-(1*2))"
   ]
  },
  {
   "cell_type": "code",
   "execution_count": 23,
   "id": "32d693da",
   "metadata": {},
   "outputs": [
    {
     "data": {
      "text/plain": [
       "float"
      ]
     },
     "execution_count": 23,
     "metadata": {},
     "output_type": "execute_result"
    }
   ],
   "source": [
    "a = int('5')/int(2.7)\n",
    "type(a)"
   ]
  },
  {
   "cell_type": "code",
   "execution_count": 24,
   "id": "6c568c6e",
   "metadata": {},
   "outputs": [
    {
     "name": "stdout",
     "output_type": "stream",
     "text": [
      "welcome to tip calculator!\n",
      "whats the total bill?2500\n",
      "how much you are interested to pay the tip amount - 10/20/30/50?50\n",
      "how many friends came for the hotel?5\n",
      "510.0\n"
     ]
    }
   ],
   "source": [
    "print('welcome to tip calculator!')\n",
    "\n",
    "bill_amount = input('whats the total bill?')\n",
    "\n",
    "bill_amount = float(bill_amount)\n",
    "\n",
    "tip = input('how much you are interested to pay the tip amount - 10/20/30/50?')\n",
    "\n",
    "tip = int(tip)\n",
    "\n",
    "friends = input('how many friends came for the hotel?')\n",
    "\n",
    "friends = int(friends)\n",
    "\n",
    "bill_tip = (tip + bill_amount) \n",
    "\n",
    "per_person = bill_tip / friends\n",
    "\n",
    "print(round(per_person,2))"
   ]
  },
  {
   "cell_type": "code",
   "execution_count": null,
   "id": "aa6217e2",
   "metadata": {},
   "outputs": [],
   "source": []
  }
 ],
 "metadata": {
  "kernelspec": {
   "display_name": "Python 3 (ipykernel)",
   "language": "python",
   "name": "python3"
  },
  "language_info": {
   "codemirror_mode": {
    "name": "ipython",
    "version": 3
   },
   "file_extension": ".py",
   "mimetype": "text/x-python",
   "name": "python",
   "nbconvert_exporter": "python",
   "pygments_lexer": "ipython3",
   "version": "3.11.5"
  }
 },
 "nbformat": 4,
 "nbformat_minor": 5
}
