{
 "cells": [
  {
   "cell_type": "code",
   "execution_count": 1,
   "id": "6353d40a",
   "metadata": {},
   "outputs": [
    {
     "name": "stdout",
     "output_type": "stream",
     "text": [
      "hello world!\n"
     ]
    }
   ],
   "source": [
    "# print the statement\n",
    "print(\"hello world!\")"
   ]
  },
  {
   "cell_type": "code",
   "execution_count": 2,
   "id": "67836c63",
   "metadata": {},
   "outputs": [],
   "source": [
    "#assigning variable values\n",
    "num1 = 10\n",
    "num2 = 15\n",
    "\n",
    "#addition of two numbers\n",
    "add = num1 + num2"
   ]
  },
  {
   "cell_type": "code",
   "execution_count": 3,
   "id": "1b68afad",
   "metadata": {},
   "outputs": [
    {
     "data": {
      "text/plain": [
       "25"
      ]
     },
     "execution_count": 3,
     "metadata": {},
     "output_type": "execute_result"
    }
   ],
   "source": [
    "add"
   ]
  },
  {
   "cell_type": "code",
   "execution_count": 4,
   "id": "eff65029",
   "metadata": {},
   "outputs": [
    {
     "name": "stdout",
     "output_type": "stream",
     "text": [
      "25\n"
     ]
    }
   ],
   "source": [
    "#printing the output\n",
    "print(add)"
   ]
  },
  {
   "cell_type": "code",
   "execution_count": 5,
   "id": "663a0919",
   "metadata": {
    "scrolled": true
   },
   "outputs": [
    {
     "name": "stdout",
     "output_type": "stream",
     "text": [
      "addition output: 15\n",
      "multiplication output: 80\n"
     ]
    }
   ],
   "source": [
    "#here we are doing more calculation\n",
    "#first we need to assign variables with\n",
    "#values for three varaibles namely\n",
    "#num1, num2, num3\n",
    "\n",
    "num1 = 2\n",
    "num2 = 5\n",
    "num3 = 8\n",
    "\n",
    "#addition of variables\n",
    "sums = num1+ num2+ num3\n",
    "\n",
    "#multiplication of variables\n",
    "mulz = num1*num2*num3\n",
    "\n",
    "#printing addition output\n",
    "print('addition output:', sums)\n",
    "\n",
    "#printing multiplication output\n",
    "print('multiplication output:',mulz)"
   ]
  },
  {
   "cell_type": "code",
   "execution_count": null,
   "id": "7eff5799",
   "metadata": {},
   "outputs": [],
   "source": []
  }
 ],
 "metadata": {
  "kernelspec": {
   "display_name": "Python 3 (ipykernel)",
   "language": "python",
   "name": "python3"
  },
  "language_info": {
   "codemirror_mode": {
    "name": "ipython",
    "version": 3
   },
   "file_extension": ".py",
   "mimetype": "text/x-python",
   "name": "python",
   "nbconvert_exporter": "python",
   "pygments_lexer": "ipython3",
   "version": "3.11.5"
  }
 },
 "nbformat": 4,
 "nbformat_minor": 5
}
