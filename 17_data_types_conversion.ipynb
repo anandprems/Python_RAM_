{
 "cells": [
  {
   "cell_type": "code",
   "execution_count": 1,
   "id": "50e93c2d",
   "metadata": {},
   "outputs": [
    {
     "name": "stdout",
     "output_type": "stream",
     "text": [
      "Python\n"
     ]
    }
   ],
   "source": [
    "#len function\n",
    "\n",
    "name = print('Python')\n",
    "name"
   ]
  },
  {
   "cell_type": "code",
   "execution_count": 2,
   "id": "703b2221",
   "metadata": {},
   "outputs": [
    {
     "name": "stdout",
     "output_type": "stream",
     "text": [
      "6\n"
     ]
    }
   ],
   "source": [
    "name = print(len('Python'))\n",
    "name"
   ]
  },
  {
   "cell_type": "code",
   "execution_count": 3,
   "id": "cfe8182d",
   "metadata": {},
   "outputs": [
    {
     "ename": "TypeError",
     "evalue": "object of type 'int' has no len()",
     "output_type": "error",
     "traceback": [
      "\u001b[1;31m---------------------------------------------------------------------------\u001b[0m",
      "\u001b[1;31mTypeError\u001b[0m                                 Traceback (most recent call last)",
      "Cell \u001b[1;32mIn[3], line 1\u001b[0m\n\u001b[1;32m----> 1\u001b[0m \u001b[38;5;28mprint\u001b[39m(\u001b[38;5;28mlen\u001b[39m(\u001b[38;5;241m123456\u001b[39m))\n",
      "\u001b[1;31mTypeError\u001b[0m: object of type 'int' has no len()"
     ]
    }
   ],
   "source": [
    "print(len(123456))"
   ]
  },
  {
   "cell_type": "markdown",
   "id": "2c495b63",
   "metadata": {},
   "source": [
    "## Types of data"
   ]
  },
  {
   "cell_type": "markdown",
   "id": "d7e9f68f",
   "metadata": {},
   "source": [
    "1. String - \"Python\" or 'Python' or '12345' 0r '@sjf$%^'\n",
    "2. Integer - 1 or 123456 or 15789654236 \n",
    "3. Float - 0.256 or 1.256 or 25648.3654789\n",
    "4. Boolean - True or False or 1 or 0"
   ]
  },
  {
   "cell_type": "code",
   "execution_count": 4,
   "id": "43c180ce",
   "metadata": {},
   "outputs": [
    {
     "name": "stdout",
     "output_type": "stream",
     "text": [
      "Hello Wolrd!\n"
     ]
    }
   ],
   "source": [
    "#string data type\n",
    "print('Hello Wolrd!')"
   ]
  },
  {
   "cell_type": "code",
   "execution_count": 5,
   "id": "e2c8a976",
   "metadata": {},
   "outputs": [
    {
     "name": "stdout",
     "output_type": "stream",
     "text": [
      "Hello Wolrd!\n"
     ]
    }
   ],
   "source": [
    "print(\"Hello Wolrd!\")"
   ]
  },
  {
   "cell_type": "code",
   "execution_count": 14,
   "id": "776b6767",
   "metadata": {},
   "outputs": [
    {
     "name": "stdout",
     "output_type": "stream",
     "text": [
      "W\n"
     ]
    }
   ],
   "source": [
    "print('Hello Wolrd'[-5])"
   ]
  },
  {
   "cell_type": "code",
   "execution_count": 15,
   "id": "55a133ff",
   "metadata": {},
   "outputs": [
    {
     "name": "stdout",
     "output_type": "stream",
     "text": [
      "123456\n"
     ]
    }
   ],
   "source": [
    "print('123456')"
   ]
  },
  {
   "cell_type": "markdown",
   "id": "a1ed3939",
   "metadata": {},
   "source": [
    "## Integer"
   ]
  },
  {
   "cell_type": "markdown",
   "id": "9d30516e",
   "metadata": {},
   "source": [
    "- numbers without any decimal numbers"
   ]
  },
  {
   "cell_type": "code",
   "execution_count": 16,
   "id": "1ef34971",
   "metadata": {},
   "outputs": [
    {
     "name": "stdout",
     "output_type": "stream",
     "text": [
      "123456\n"
     ]
    }
   ],
   "source": [
    "print(123456)"
   ]
  },
  {
   "cell_type": "code",
   "execution_count": 17,
   "id": "98d44805",
   "metadata": {},
   "outputs": [
    {
     "name": "stdout",
     "output_type": "stream",
     "text": [
      "579\n"
     ]
    }
   ],
   "source": [
    "print(123 + 456)"
   ]
  },
  {
   "cell_type": "code",
   "execution_count": 18,
   "id": "e53240eb",
   "metadata": {},
   "outputs": [
    {
     "name": "stdout",
     "output_type": "stream",
     "text": [
      "0.26973684210526316\n"
     ]
    }
   ],
   "source": [
    "print(123 / 456)"
   ]
  },
  {
   "cell_type": "code",
   "execution_count": 19,
   "id": "883193d3",
   "metadata": {},
   "outputs": [
    {
     "data": {
      "text/plain": [
       "(342, 654, 896)"
      ]
     },
     "execution_count": 19,
     "metadata": {},
     "output_type": "execute_result"
    }
   ],
   "source": [
    "342,654,896"
   ]
  },
  {
   "cell_type": "code",
   "execution_count": 20,
   "id": "e20e45b9",
   "metadata": {},
   "outputs": [
    {
     "name": "stdout",
     "output_type": "stream",
     "text": [
      "342 654 896\n"
     ]
    }
   ],
   "source": [
    "print(342,654,896)"
   ]
  },
  {
   "cell_type": "code",
   "execution_count": 21,
   "id": "3d6f6a90",
   "metadata": {},
   "outputs": [
    {
     "data": {
      "text/plain": [
       "342654896"
      ]
     },
     "execution_count": 21,
     "metadata": {},
     "output_type": "execute_result"
    }
   ],
   "source": [
    "342_654_896"
   ]
  },
  {
   "cell_type": "markdown",
   "id": "4fb7369a",
   "metadata": {},
   "source": [
    "## Floating"
   ]
  },
  {
   "cell_type": "markdown",
   "id": "aca225ff",
   "metadata": {},
   "source": [
    "- numbers with decimal numbers"
   ]
  },
  {
   "cell_type": "code",
   "execution_count": 23,
   "id": "d32aed75",
   "metadata": {},
   "outputs": [
    {
     "name": "stdout",
     "output_type": "stream",
     "text": [
      "1423.4569\n"
     ]
    }
   ],
   "source": [
    "print(1423.4569)"
   ]
  },
  {
   "cell_type": "code",
   "execution_count": 24,
   "id": "6241840e",
   "metadata": {},
   "outputs": [
    {
     "name": "stdout",
     "output_type": "stream",
     "text": [
      "3.1456789\n"
     ]
    }
   ],
   "source": [
    "print(3.1456789)"
   ]
  },
  {
   "cell_type": "markdown",
   "id": "6a722826",
   "metadata": {},
   "source": [
    "## Boolean"
   ]
  },
  {
   "cell_type": "code",
   "execution_count": 25,
   "id": "c3eec19c",
   "metadata": {},
   "outputs": [
    {
     "data": {
      "text/plain": [
       "True"
      ]
     },
     "execution_count": 25,
     "metadata": {},
     "output_type": "execute_result"
    }
   ],
   "source": [
    "True"
   ]
  },
  {
   "cell_type": "code",
   "execution_count": 26,
   "id": "65f2d51e",
   "metadata": {},
   "outputs": [
    {
     "data": {
      "text/plain": [
       "False"
      ]
     },
     "execution_count": 26,
     "metadata": {},
     "output_type": "execute_result"
    }
   ],
   "source": [
    "False"
   ]
  },
  {
   "cell_type": "code",
   "execution_count": 27,
   "id": "50592592",
   "metadata": {},
   "outputs": [
    {
     "ename": "NameError",
     "evalue": "name 'true' is not defined",
     "output_type": "error",
     "traceback": [
      "\u001b[1;31m---------------------------------------------------------------------------\u001b[0m",
      "\u001b[1;31mNameError\u001b[0m                                 Traceback (most recent call last)",
      "Cell \u001b[1;32mIn[27], line 1\u001b[0m\n\u001b[1;32m----> 1\u001b[0m true\n",
      "\u001b[1;31mNameError\u001b[0m: name 'true' is not defined"
     ]
    }
   ],
   "source": [
    "true"
   ]
  },
  {
   "cell_type": "markdown",
   "id": "7ca144b3",
   "metadata": {},
   "source": [
    "### QUIZ"
   ]
  },
  {
   "cell_type": "markdown",
   "id": "f925b41d",
   "metadata": {},
   "source": [
    "which statement is incorrect?\n",
    "1. 932 is an integer\n",
    "2. 'False' is an boolean data\n",
    "3. 857.22 is a float data\n",
    "4. \"523\" is a string data"
   ]
  },
  {
   "cell_type": "markdown",
   "id": "f3ce7352",
   "metadata": {},
   "source": [
    "What is the data type of the mystery variable?\n",
    "mystery = 734_529.235\n",
    "1. integer\n",
    "2. string\n",
    "3. float\n",
    "4. quartile"
   ]
  },
  {
   "cell_type": "code",
   "execution_count": 28,
   "id": "309fa3b1",
   "metadata": {},
   "outputs": [
    {
     "data": {
      "text/plain": [
       "734529.235"
      ]
     },
     "execution_count": 28,
     "metadata": {},
     "output_type": "execute_result"
    }
   ],
   "source": [
    "734_529.235"
   ]
  },
  {
   "cell_type": "markdown",
   "id": "cc10b527",
   "metadata": {},
   "source": [
    "i have put a spell on you. you are now a computer. if i give you the following code, what will you print?\n",
    "street_name = 'Anna Nagar'\n",
    "print(street_name[2] + street_name[5])"
   ]
  },
  {
   "cell_type": "code",
   "execution_count": 29,
   "id": "c5e4e942",
   "metadata": {},
   "outputs": [
    {
     "name": "stdout",
     "output_type": "stream",
     "text": [
      "nN\n"
     ]
    }
   ],
   "source": [
    "street_name = 'Anna Nagar'\n",
    "print(street_name[2] + street_name[5])"
   ]
  },
  {
   "cell_type": "code",
   "execution_count": 32,
   "id": "bb80bc2f",
   "metadata": {},
   "outputs": [
    {
     "data": {
      "text/plain": [
       "'N'"
      ]
     },
     "execution_count": 32,
     "metadata": {},
     "output_type": "execute_result"
    }
   ],
   "source": [
    "street_name = 'Anna Nagar'\n",
    "street_name[5]"
   ]
  },
  {
   "cell_type": "code",
   "execution_count": 33,
   "id": "0d300dea",
   "metadata": {},
   "outputs": [
    {
     "name": "stdout",
     "output_type": "stream",
     "text": [
      "Python\n"
     ]
    }
   ],
   "source": [
    "print('Python')"
   ]
  },
  {
   "cell_type": "code",
   "execution_count": 34,
   "id": "a997208b",
   "metadata": {},
   "outputs": [
    {
     "name": "stdout",
     "output_type": "stream",
     "text": [
      "6\n"
     ]
    }
   ],
   "source": [
    "print(len('Python'))"
   ]
  },
  {
   "cell_type": "code",
   "execution_count": 35,
   "id": "b3dee908",
   "metadata": {},
   "outputs": [
    {
     "name": "stdout",
     "output_type": "stream",
     "text": [
      "123456789\n"
     ]
    }
   ],
   "source": [
    "print(123_456_789)"
   ]
  },
  {
   "cell_type": "code",
   "execution_count": 36,
   "id": "ec87f90e",
   "metadata": {},
   "outputs": [
    {
     "ename": "TypeError",
     "evalue": "object of type 'int' has no len()",
     "output_type": "error",
     "traceback": [
      "\u001b[1;31m---------------------------------------------------------------------------\u001b[0m",
      "\u001b[1;31mTypeError\u001b[0m                                 Traceback (most recent call last)",
      "Cell \u001b[1;32mIn[36], line 1\u001b[0m\n\u001b[1;32m----> 1\u001b[0m \u001b[38;5;28mprint\u001b[39m(\u001b[38;5;28mlen\u001b[39m(\u001b[38;5;241m123_456_789\u001b[39m))\n",
      "\u001b[1;31mTypeError\u001b[0m: object of type 'int' has no len()"
     ]
    }
   ],
   "source": [
    "print(len(123_456_789))"
   ]
  },
  {
   "cell_type": "code",
   "execution_count": 37,
   "id": "f95d0442",
   "metadata": {},
   "outputs": [
    {
     "ename": "TypeError",
     "evalue": "object of type 'bool' has no len()",
     "output_type": "error",
     "traceback": [
      "\u001b[1;31m---------------------------------------------------------------------------\u001b[0m",
      "\u001b[1;31mTypeError\u001b[0m                                 Traceback (most recent call last)",
      "Cell \u001b[1;32mIn[37], line 1\u001b[0m\n\u001b[1;32m----> 1\u001b[0m \u001b[38;5;28mprint\u001b[39m(\u001b[38;5;28mlen\u001b[39m(\u001b[38;5;28;01mFalse\u001b[39;00m))\n",
      "\u001b[1;31mTypeError\u001b[0m: object of type 'bool' has no len()"
     ]
    }
   ],
   "source": [
    "print(len(False))"
   ]
  },
  {
   "cell_type": "code",
   "execution_count": 38,
   "id": "97e5dd53",
   "metadata": {},
   "outputs": [
    {
     "ename": "TypeError",
     "evalue": "object of type 'float' has no len()",
     "output_type": "error",
     "traceback": [
      "\u001b[1;31m---------------------------------------------------------------------------\u001b[0m",
      "\u001b[1;31mTypeError\u001b[0m                                 Traceback (most recent call last)",
      "Cell \u001b[1;32mIn[38], line 1\u001b[0m\n\u001b[1;32m----> 1\u001b[0m \u001b[38;5;28mprint\u001b[39m(\u001b[38;5;28mlen\u001b[39m(\u001b[38;5;241m123_456_78.254\u001b[39m))\n",
      "\u001b[1;31mTypeError\u001b[0m: object of type 'float' has no len()"
     ]
    }
   ],
   "source": [
    "print(len(123_456_78.254))"
   ]
  },
  {
   "cell_type": "code",
   "execution_count": 39,
   "id": "1ecd1833",
   "metadata": {},
   "outputs": [],
   "source": [
    "## Quiz"
   ]
  },
  {
   "cell_type": "code",
   "execution_count": 40,
   "id": "4ce8f6b2",
   "metadata": {},
   "outputs": [
    {
     "name": "stdout",
     "output_type": "stream",
     "text": [
      "what is your name?Ram\n"
     ]
    },
    {
     "ename": "TypeError",
     "evalue": "can only concatenate str (not \"int\") to str",
     "output_type": "error",
     "traceback": [
      "\u001b[1;31m---------------------------------------------------------------------------\u001b[0m",
      "\u001b[1;31mTypeError\u001b[0m                                 Traceback (most recent call last)",
      "Cell \u001b[1;32mIn[40], line 2\u001b[0m\n\u001b[0;32m      1\u001b[0m num_char \u001b[38;5;241m=\u001b[39m \u001b[38;5;28mlen\u001b[39m(\u001b[38;5;28minput\u001b[39m(\u001b[38;5;124m'\u001b[39m\u001b[38;5;124mwhat is your name?\u001b[39m\u001b[38;5;124m'\u001b[39m))\n\u001b[1;32m----> 2\u001b[0m \u001b[38;5;28mprint\u001b[39m(\u001b[38;5;124m'\u001b[39m\u001b[38;5;124mYour name has\u001b[39m\u001b[38;5;124m'\u001b[39m \u001b[38;5;241m+\u001b[39m num_char \u001b[38;5;241m+\u001b[39m \u001b[38;5;124m'\u001b[39m\u001b[38;5;124mcharacters!\u001b[39m\u001b[38;5;124m'\u001b[39m)\n",
      "\u001b[1;31mTypeError\u001b[0m: can only concatenate str (not \"int\") to str"
     ]
    }
   ],
   "source": [
    "num_char = len(input('what is your name?'))\n",
    "print('Your name has' + num_char + 'characters!')"
   ]
  },
  {
   "cell_type": "markdown",
   "id": "70d24d6e",
   "metadata": {},
   "source": [
    "## type()"
   ]
  },
  {
   "cell_type": "code",
   "execution_count": 41,
   "id": "db198449",
   "metadata": {},
   "outputs": [
    {
     "data": {
      "text/plain": [
       "str"
      ]
     },
     "execution_count": 41,
     "metadata": {},
     "output_type": "execute_result"
    }
   ],
   "source": [
    "name = 'Premanand'\n",
    "type(name)"
   ]
  },
  {
   "cell_type": "code",
   "execution_count": 42,
   "id": "55a1f1a9",
   "metadata": {},
   "outputs": [
    {
     "data": {
      "text/plain": [
       "int"
      ]
     },
     "execution_count": 42,
     "metadata": {},
     "output_type": "execute_result"
    }
   ],
   "source": [
    "age = 47\n",
    "type(age)"
   ]
  },
  {
   "cell_type": "code",
   "execution_count": 43,
   "id": "be6aa073",
   "metadata": {},
   "outputs": [
    {
     "data": {
      "text/plain": [
       "float"
      ]
     },
     "execution_count": 43,
     "metadata": {},
     "output_type": "execute_result"
    }
   ],
   "source": [
    "value = 3.1458\n",
    "type(value)"
   ]
  },
  {
   "cell_type": "code",
   "execution_count": 44,
   "id": "7ac48e1e",
   "metadata": {},
   "outputs": [
    {
     "data": {
      "text/plain": [
       "bool"
      ]
     },
     "execution_count": 44,
     "metadata": {},
     "output_type": "execute_result"
    }
   ],
   "source": [
    "decision = True\n",
    "type(decision)"
   ]
  },
  {
   "cell_type": "code",
   "execution_count": 46,
   "id": "0ab5fac2",
   "metadata": {},
   "outputs": [
    {
     "name": "stdout",
     "output_type": "stream",
     "text": [
      "what is your name?Premanand\n"
     ]
    },
    {
     "data": {
      "text/plain": [
       "int"
      ]
     },
     "execution_count": 46,
     "metadata": {},
     "output_type": "execute_result"
    }
   ],
   "source": [
    "num_char = len(input('what is your name?'))\n",
    "type(num_char)"
   ]
  },
  {
   "cell_type": "code",
   "execution_count": 47,
   "id": "f65b76f5",
   "metadata": {},
   "outputs": [
    {
     "name": "stdout",
     "output_type": "stream",
     "text": [
      "9\n"
     ]
    }
   ],
   "source": [
    "print(num_char)"
   ]
  },
  {
   "cell_type": "markdown",
   "id": "af8ff70a",
   "metadata": {},
   "source": [
    "## Type conversion"
   ]
  },
  {
   "cell_type": "code",
   "execution_count": 50,
   "id": "b23ba55b",
   "metadata": {},
   "outputs": [
    {
     "name": "stdout",
     "output_type": "stream",
     "text": [
      "what is your name?RAM\n",
      "Your name has 3 characters!\n"
     ]
    }
   ],
   "source": [
    "num_char = len(input('what is your name?'))\n",
    "new_num_char = str(num_char)\n",
    "print('Your name has ' + new_num_char  + ' characters!')"
   ]
  },
  {
   "cell_type": "code",
   "execution_count": 51,
   "id": "6d05b74b",
   "metadata": {},
   "outputs": [
    {
     "data": {
      "text/plain": [
       "str"
      ]
     },
     "execution_count": 51,
     "metadata": {},
     "output_type": "execute_result"
    }
   ],
   "source": [
    "type(new_num_char)"
   ]
  },
  {
   "cell_type": "code",
   "execution_count": 52,
   "id": "a585331f",
   "metadata": {},
   "outputs": [
    {
     "data": {
      "text/plain": [
       "47"
      ]
     },
     "execution_count": 52,
     "metadata": {},
     "output_type": "execute_result"
    }
   ],
   "source": [
    "age = 47\n",
    "age"
   ]
  },
  {
   "cell_type": "code",
   "execution_count": 53,
   "id": "84a40b63",
   "metadata": {},
   "outputs": [
    {
     "data": {
      "text/plain": [
       "int"
      ]
     },
     "execution_count": 53,
     "metadata": {},
     "output_type": "execute_result"
    }
   ],
   "source": [
    "type(age)"
   ]
  },
  {
   "cell_type": "code",
   "execution_count": 54,
   "id": "32c16e3a",
   "metadata": {},
   "outputs": [
    {
     "data": {
      "text/plain": [
       "'47'"
      ]
     },
     "execution_count": 54,
     "metadata": {},
     "output_type": "execute_result"
    }
   ],
   "source": [
    "str(age)"
   ]
  },
  {
   "cell_type": "code",
   "execution_count": 55,
   "id": "c3993d68",
   "metadata": {},
   "outputs": [
    {
     "data": {
      "text/plain": [
       "str"
      ]
     },
     "execution_count": 55,
     "metadata": {},
     "output_type": "execute_result"
    }
   ],
   "source": [
    "type(str(age))"
   ]
  },
  {
   "cell_type": "code",
   "execution_count": 56,
   "id": "a47a04f4",
   "metadata": {},
   "outputs": [
    {
     "data": {
      "text/plain": [
       "'2024'"
      ]
     },
     "execution_count": 56,
     "metadata": {},
     "output_type": "execute_result"
    }
   ],
   "source": [
    "year = '2024'\n",
    "year1 = str(year)\n",
    "year1"
   ]
  },
  {
   "cell_type": "code",
   "execution_count": 57,
   "id": "4b92bcd4",
   "metadata": {},
   "outputs": [
    {
     "data": {
      "text/plain": [
       "str"
      ]
     },
     "execution_count": 57,
     "metadata": {},
     "output_type": "execute_result"
    }
   ],
   "source": [
    "type(year1)"
   ]
  },
  {
   "cell_type": "code",
   "execution_count": 58,
   "id": "0946e463",
   "metadata": {},
   "outputs": [
    {
     "ename": "ValueError",
     "evalue": "invalid literal for int() with base 10: 'thursday'",
     "output_type": "error",
     "traceback": [
      "\u001b[1;31m---------------------------------------------------------------------------\u001b[0m",
      "\u001b[1;31mValueError\u001b[0m                                Traceback (most recent call last)",
      "Cell \u001b[1;32mIn[58], line 2\u001b[0m\n\u001b[0;32m      1\u001b[0m day \u001b[38;5;241m=\u001b[39m \u001b[38;5;124m'\u001b[39m\u001b[38;5;124mthursday\u001b[39m\u001b[38;5;124m'\u001b[39m\n\u001b[1;32m----> 2\u001b[0m day1 \u001b[38;5;241m=\u001b[39m \u001b[38;5;28mint\u001b[39m(day)\n\u001b[0;32m      3\u001b[0m day1\n",
      "\u001b[1;31mValueError\u001b[0m: invalid literal for int() with base 10: 'thursday'"
     ]
    }
   ],
   "source": [
    "day = 'thursday'\n",
    "day1 = int(day)\n",
    "day1"
   ]
  },
  {
   "cell_type": "code",
   "execution_count": 59,
   "id": "9a1b7a52",
   "metadata": {},
   "outputs": [
    {
     "data": {
      "text/plain": [
       "23"
      ]
     },
     "execution_count": 59,
     "metadata": {},
     "output_type": "execute_result"
    }
   ],
   "source": [
    "date = '23'\n",
    "date1 = int(date)\n",
    "date1"
   ]
  },
  {
   "cell_type": "code",
   "execution_count": 60,
   "id": "021d05be",
   "metadata": {},
   "outputs": [
    {
     "data": {
      "text/plain": [
       "15"
      ]
     },
     "execution_count": 60,
     "metadata": {},
     "output_type": "execute_result"
    }
   ],
   "source": [
    "time = 15.26\n",
    "time1 = int(time)\n",
    "time1"
   ]
  },
  {
   "cell_type": "code",
   "execution_count": 61,
   "id": "77a1098d",
   "metadata": {},
   "outputs": [
    {
     "data": {
      "text/plain": [
       "23.0"
      ]
     },
     "execution_count": 61,
     "metadata": {},
     "output_type": "execute_result"
    }
   ],
   "source": [
    "time = '23'\n",
    "time1 = float(time)\n",
    "time1"
   ]
  },
  {
   "cell_type": "code",
   "execution_count": 62,
   "id": "4af975c8",
   "metadata": {},
   "outputs": [
    {
     "ename": "ValueError",
     "evalue": "could not convert string to float: 'date'",
     "output_type": "error",
     "traceback": [
      "\u001b[1;31m---------------------------------------------------------------------------\u001b[0m",
      "\u001b[1;31mValueError\u001b[0m                                Traceback (most recent call last)",
      "Cell \u001b[1;32mIn[62], line 2\u001b[0m\n\u001b[0;32m      1\u001b[0m ti \u001b[38;5;241m=\u001b[39m \u001b[38;5;124m'\u001b[39m\u001b[38;5;124mdate\u001b[39m\u001b[38;5;124m'\u001b[39m\n\u001b[1;32m----> 2\u001b[0m ti1 \u001b[38;5;241m=\u001b[39m \u001b[38;5;28mfloat\u001b[39m(ti)\n\u001b[0;32m      3\u001b[0m ti1\n",
      "\u001b[1;31mValueError\u001b[0m: could not convert string to float: 'date'"
     ]
    }
   ],
   "source": [
    "ti = 'date'\n",
    "ti1 = float(ti)\n",
    "ti1"
   ]
  },
  {
   "cell_type": "code",
   "execution_count": 63,
   "id": "ee628472",
   "metadata": {},
   "outputs": [
    {
     "name": "stdout",
     "output_type": "stream",
     "text": [
      "7584\n"
     ]
    }
   ],
   "source": [
    "print(str(75) + str(84))"
   ]
  },
  {
   "cell_type": "code",
   "execution_count": 64,
   "id": "3ca47174",
   "metadata": {},
   "outputs": [
    {
     "data": {
      "text/plain": [
       "'75'"
      ]
     },
     "execution_count": 64,
     "metadata": {},
     "output_type": "execute_result"
    }
   ],
   "source": [
    "str(75)"
   ]
  },
  {
   "cell_type": "code",
   "execution_count": 65,
   "id": "e2e60e32",
   "metadata": {},
   "outputs": [
    {
     "data": {
      "text/plain": [
       "'84'"
      ]
     },
     "execution_count": 65,
     "metadata": {},
     "output_type": "execute_result"
    }
   ],
   "source": [
    "str(84)"
   ]
  },
  {
   "cell_type": "code",
   "execution_count": 66,
   "id": "0e72232b",
   "metadata": {},
   "outputs": [
    {
     "name": "stdout",
     "output_type": "stream",
     "text": [
      "159\n"
     ]
    }
   ],
   "source": [
    "print(int(75) + int(84))"
   ]
  },
  {
   "cell_type": "code",
   "execution_count": 67,
   "id": "5f78b4a9",
   "metadata": {},
   "outputs": [
    {
     "name": "stdout",
     "output_type": "stream",
     "text": [
      "159.0\n"
     ]
    }
   ],
   "source": [
    "print(int(75) + float(84))"
   ]
  },
  {
   "cell_type": "code",
   "execution_count": 68,
   "id": "ac7e260a",
   "metadata": {},
   "outputs": [
    {
     "name": "stdout",
     "output_type": "stream",
     "text": [
      "hihru?\n"
     ]
    }
   ],
   "source": [
    "print(str('hi') + str('hru?'))"
   ]
  },
  {
   "cell_type": "markdown",
   "id": "6dba83df",
   "metadata": {},
   "source": [
    "## problem statement"
   ]
  },
  {
   "cell_type": "markdown",
   "id": "04fc156a",
   "metadata": {},
   "source": [
    "write a program that adds the digits in  a 2 digit number.\n",
    "1. Ex: if the input was 35, then the output should be 8(3+5)\n",
    "2. Ex: if the input was 3545, then the output should be 8(3+5)\n",
    "3. Ex: if the input was 354554545, then the output should be 8(3+5)\n",
    "4. Ex: if the input was 354, then the output should be 8(3+5)"
   ]
  },
  {
   "cell_type": "code",
   "execution_count": 80,
   "id": "759337ed",
   "metadata": {},
   "outputs": [
    {
     "name": "stdout",
     "output_type": "stream",
     "text": [
      "share the number to add: 354554545\n",
      "<class 'str'>\n",
      "8\n"
     ]
    }
   ],
   "source": [
    "two_digit_number = input('share the number to add: ')\n",
    "print(type(two_digit_number))\n",
    "\n",
    "first_digit = int(two_digit_number[0])\n",
    "second_digit = int(two_digit_number[1])\n",
    "\n",
    "two_digit_number = first_digit + second_digit\n",
    "print(two_digit_number)"
   ]
  },
  {
   "cell_type": "code",
   "execution_count": 74,
   "id": "2e7e89d5",
   "metadata": {},
   "outputs": [
    {
     "name": "stdout",
     "output_type": "stream",
     "text": [
      "share the number to add: 35\n"
     ]
    }
   ],
   "source": [
    "two_digit_number = input('share the number to add: ')\n"
   ]
  },
  {
   "cell_type": "code",
   "execution_count": 75,
   "id": "a8eeeb43",
   "metadata": {},
   "outputs": [
    {
     "name": "stdout",
     "output_type": "stream",
     "text": [
      "<class 'str'>\n"
     ]
    }
   ],
   "source": [
    "print(type(two_digit_number))"
   ]
  },
  {
   "cell_type": "code",
   "execution_count": 76,
   "id": "548236b6",
   "metadata": {},
   "outputs": [
    {
     "data": {
      "text/plain": [
       "3"
      ]
     },
     "execution_count": 76,
     "metadata": {},
     "output_type": "execute_result"
    }
   ],
   "source": [
    "first_digit = int(two_digit_number[0])\n",
    "first_digit"
   ]
  },
  {
   "cell_type": "code",
   "execution_count": 77,
   "id": "62996492",
   "metadata": {},
   "outputs": [
    {
     "data": {
      "text/plain": [
       "5"
      ]
     },
     "execution_count": 77,
     "metadata": {},
     "output_type": "execute_result"
    }
   ],
   "source": [
    "second_digit = int(two_digit_number[1])\n",
    "second_digit"
   ]
  },
  {
   "cell_type": "code",
   "execution_count": null,
   "id": "968ba87c",
   "metadata": {},
   "outputs": [],
   "source": []
  }
 ],
 "metadata": {
  "kernelspec": {
   "display_name": "Python 3 (ipykernel)",
   "language": "python",
   "name": "python3"
  },
  "language_info": {
   "codemirror_mode": {
    "name": "ipython",
    "version": 3
   },
   "file_extension": ".py",
   "mimetype": "text/x-python",
   "name": "python",
   "nbconvert_exporter": "python",
   "pygments_lexer": "ipython3",
   "version": "3.11.5"
  }
 },
 "nbformat": 4,
 "nbformat_minor": 5
}
